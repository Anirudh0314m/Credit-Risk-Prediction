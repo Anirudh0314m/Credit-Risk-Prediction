{
 "cells": [
  {
   "cell_type": "code",
   "execution_count": null,
   "id": "ea162bb3",
   "metadata": {},
   "outputs": [
    {
     "name": "stdout",
     "output_type": "stream",
     "text": [
      "Error: Model or scaler files not found. Make sure 'tuned_xgboost_model_final.joblib' and 'scaler_final.joblib' are in the 'trained_models' directory.\n"
     ]
    },
    {
     "ename": "",
     "evalue": "",
     "output_type": "error",
     "traceback": [
      "\u001b[1;31mThe Kernel crashed while executing code in the current cell or a previous cell. \n",
      "\u001b[1;31mPlease review the code in the cell(s) to identify a possible cause of the failure. \n",
      "\u001b[1;31mClick <a href='https://aka.ms/vscodeJupyterKernelCrash'>here</a> for more info. \n",
      "\u001b[1;31mView Jupyter <a href='command:jupyter.viewOutput'>log</a> for further details."
     ]
    }
   ],
   "source": [
    "import joblib\n",
    "import pandas as pd\n",
    "import numpy as np\n",
    "\n",
    "# --- Step 1: Load the saved model and scaler ---\n",
    "try:\n",
    "    loaded_xgb_model = joblib.load('/notebooks/models/tuned_xgboost_model/tuned_xgboost_model_final.joblib')\n",
    "\n",
    "    print(\"Successfully loaded the tuned XGBoost model and scaler.\")\n",
    "except FileNotFoundError:\n",
    "    print(\"Error: Model or scaler files not found. Make sure 'tuned_xgboost_model_final.joblib' and 'scaler_final.joblib' are in the 'trained_models' directory.\")\n",
    "    # Exit or handle error appropriately\n",
    "    exit()\n",
    "\n"
   ]
  },
  {
   "cell_type": "code",
   "execution_count": null,
   "id": "149856b7",
   "metadata": {},
   "outputs": [],
   "source": []
  }
 ],
 "metadata": {
  "kernelspec": {
   "display_name": ".venv",
   "language": "python",
   "name": "python3"
  },
  "language_info": {
   "codemirror_mode": {
    "name": "ipython",
    "version": 3
   },
   "file_extension": ".py",
   "mimetype": "text/x-python",
   "name": "python",
   "nbconvert_exporter": "python",
   "pygments_lexer": "ipython3",
   "version": "3.11.7"
  }
 },
 "nbformat": 4,
 "nbformat_minor": 5
}
